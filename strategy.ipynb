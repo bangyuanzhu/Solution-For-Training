{
 "cells": [
  {
   "cell_type": "code",
   "execution_count": 110,
   "metadata": {},
   "outputs": [],
   "source": [
    "import pandas as pd\n",
    "import numpy as np\n",
    "from datetime import datetime"
   ]
  },
  {
   "cell_type": "code",
   "execution_count": 173,
   "metadata": {},
   "outputs": [
    {
     "name": "stdout",
     "output_type": "stream",
     "text": [
      "<class 'pandas.core.frame.DataFrame'>\n",
      "RangeIndex: 485 entries, 0 to 484\n",
      "Data columns (total 7 columns):\n",
      " #   Column     Non-Null Count  Dtype  \n",
      "---  ------     --------------  -----  \n",
      " 0   Date       485 non-null    object \n",
      " 1   Open       485 non-null    float64\n",
      " 2   High       485 non-null    float64\n",
      " 3   Low        485 non-null    float64\n",
      " 4   Close      485 non-null    float64\n",
      " 5   Adj Close  485 non-null    float64\n",
      " 6   Volume     485 non-null    int64  \n",
      "dtypes: float64(5), int64(1), object(1)\n",
      "memory usage: 26.6+ KB\n"
     ]
    }
   ],
   "source": [
    "stock = pd.read_csv(r'\"C:\\Users\\bangy\\Desktop\\1.csv\"')\n",
    "stock.info()"
   ]
  },
  {
   "cell_type": "code",
   "execution_count": 174,
   "metadata": {},
   "outputs": [],
   "source": [
    "open_price = stock[\"Open\"]\n",
    "close_price = stock[\"Close\"]\n",
    "high_price =stock[\"High\"]\n",
    "low_price = stock[\"Low\"]\n",
    "close_price = stock[\"Close\"]"
   ]
  },
  {
   "cell_type": "code",
   "execution_count": 175,
   "metadata": {},
   "outputs": [],
   "source": [
    "high_channel = high_price.rolling(window = 20).max()\n",
    "low_channel = low_price.rolling(window = 20).min()"
   ]
  },
  {
   "cell_type": "code",
   "execution_count": 179,
   "metadata": {},
   "outputs": [
    {
     "name": "stdout",
     "output_type": "stream",
     "text": [
      "0            NaN\n",
      "1            NaN\n",
      "2            NaN\n",
      "3            NaN\n",
      "4            NaN\n",
      "         ...    \n",
      "480    50.083997\n",
      "481    50.099500\n",
      "482    50.481995\n",
      "483    49.646997\n",
      "484    50.034497\n",
      "Length: 485, dtype: float64\n"
     ]
    }
   ],
   "source": [
    "true_range = []\n",
    "previous_close = close_price[0]\n",
    "for high, low, close in zip(high_price, low_price, close_price):\n",
    "    current_range = max(high - low, abs(high - previous_close), abs(previous_close - low))\n",
    "    true_range.append(current_range)\n",
    "    previous_close = close\n",
    "\n",
    "true_range = pd.Series(true_range)\n",
    "atr = true_range.rolling(window=20).mean() - true_range.rolling(window=1).mean() + true_range\n",
    "print(atr)"
   ]
  },
  {
   "cell_type": "code",
   "execution_count": 180,
   "metadata": {},
   "outputs": [
    {
     "name": "stdout",
     "output_type": "stream",
     "text": [
      "868151.0253000001\n"
     ]
    }
   ],
   "source": [
    "total_money = 1000000\n",
    "current_money = total_money\n",
    "total_unit = 0\n",
    "entry_price = 0\n",
    "for days in range(19, len(atr)):\n",
    "    unit = int(current_money * 0.01 / (100 * atr[days]))\n",
    "\n",
    "    if entry_price == 0 and high_price[days] >= high_channel[days]:\n",
    "        unit = min(unit, int(current_money/(100 * high_price[days])))\n",
    "        current_money = current_money - unit * high_price[days] * 100\n",
    "        total_unit = total_unit + unit\n",
    "        entry_price = high_price[days]\n",
    "        continue\n",
    "\n",
    "    if high_price[days] - 0.5 * atr[days] >= entry_price:\n",
    "        unit = min(unit, int(current_money/(100 * high_price[days])))\n",
    "        current_money = current_money - unit * high_price[days] * 100\n",
    "        total_unit = total_unit + unit\n",
    "        continue\n",
    "\n",
    "    if total_unit > 0 and low_price[days] <= low_channel[days]:\n",
    "        current_money = current_money + total_unit * low_price[days] * 100\n",
    "        total_unit = 0\n",
    "        entry_price = 0\n",
    "        continue\n",
    "\n",
    "    if total_unit > 0 and low_price[days] + 2 * atr[days] <= entry_price:\n",
    "        unit = min(total_unit, unit)\n",
    "        current_money = current_money + unit * low_price[days] * 100\n",
    "        total_unit = total_unit - unit\n",
    "        if(total_unit == 0):\n",
    "            entry_price = 0\n",
    "        continue\n",
    "\n",
    "final_money = current_money + total_unit * 100 * close_price[len(close_price)-1]\n",
    "print(final_money)"
   ]
  },
  {
   "cell_type": "code",
   "execution_count": 181,
   "metadata": {},
   "outputs": [
    {
     "name": "stdout",
     "output_type": "stream",
     "text": [
      "Number of days: 2453\n"
     ]
    }
   ],
   "source": [
    "start_date = datetime(2010, 6, 29)\n",
    "end_date = datetime(2017, 3, 17)\n",
    "\n",
    "num_days = (end_date - start_date).days\n",
    "\n",
    "print(\"Number of days:\", num_days)"
   ]
  },
  {
   "cell_type": "code",
   "execution_count": 182,
   "metadata": {},
   "outputs": [
    {
     "name": "stdout",
     "output_type": "stream",
     "text": [
      "Origin: Annualized rate of return: -0.09010366431981248\n"
     ]
    }
   ],
   "source": [
    "stock = int(total_money / 100 / open_price[0])\n",
    "print(\"Origin: Annualized rate of return:\", (stock * close_price[len(close_price)-1] * 100/ total_money - 1) / num_days * 365)"
   ]
  },
  {
   "cell_type": "code",
   "execution_count": 183,
   "metadata": {},
   "outputs": [
    {
     "name": "stdout",
     "output_type": "stream",
     "text": [
      "Strategy: Rate of return: -0.1318489746999999\n",
      "Strategy: Annualized rate of return: -0.01961878343477373\n"
     ]
    }
   ],
   "source": [
    "print(\"Strategy: Rate of return:\", (final_money / total_money - 1))\n",
    "print(\"Strategy: Annualized rate of return:\", (final_money / total_money - 1) / num_days * 365)"
   ]
  }
 ],
 "metadata": {
  "kernelspec": {
   "display_name": "base",
   "language": "python",
   "name": "python3"
  },
  "language_info": {
   "codemirror_mode": {
    "name": "ipython",
    "version": 3
   },
   "file_extension": ".py",
   "mimetype": "text/x-python",
   "name": "python",
   "nbconvert_exporter": "python",
   "pygments_lexer": "ipython3",
   "version": "3.9.12"
  },
  "orig_nbformat": 4
 },
 "nbformat": 4,
 "nbformat_minor": 2
}
